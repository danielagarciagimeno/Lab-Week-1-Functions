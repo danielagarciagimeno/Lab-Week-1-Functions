{
 "cells": [
  {
   "cell_type": "markdown",
   "id": "25d7736c-ba17-4aff-b6bb-66eba20fbf4e",
   "metadata": {},
   "source": [
    "# Lab | Functions"
   ]
  },
  {
   "cell_type": "markdown",
   "id": "0c581062-8967-4d93-b06e-62833222f930",
   "metadata": {
    "tags": []
   },
   "source": [
    "## Exercise: Managing Customer Orders with Functions\n",
    "\n",
    "In the previous exercise, you improved the code for managing customer orders by using loops and flow control. Now, let's take it a step further and refactor the code by introducing functions.\n",
    "\n",
    "Follow the steps below to complete the exercise:\n",
    "\n",
    "1. Define a function named `initialize_inventory` that takes `products` as a parameter. Inside the function, implement the code for initializing the inventory dictionary using a loop and user input.\n",
    "\n",
    "2. Define a function named `get_customer_orders` that takes no parameters. Inside the function, implement the code for prompting the user to enter the product names using a loop. The function should return the `customer_orders` set.\n",
    "\n",
    "3. Define a function named `update_inventory` that takes `customer_orders` and `inventory` as parameters. Inside the function, implement the code for updating the inventory dictionary based on the customer orders.\n",
    "\n",
    "4. Define a function named `calculate_order_statistics` that takes `customer_orders` and `products` as parameters. Inside the function, implement the code for calculating the order statistics (total products ordered, and percentage of unique products ordered). The function should return these values.\n",
    "\n",
    "5. Define a function named `print_order_statistics` that takes `order_statistics` as a parameter. Inside the function, implement the code for printing the order statistics.\n",
    "\n",
    "6. Define a function named `print_updated_inventory` that takes `inventory` as a parameter. Inside the function, implement the code for printing the updated inventory.\n",
    "\n",
    "7. Call the functions in the appropriate sequence to execute the program and manage customer orders.\n",
    "\n",
    "Hints for functions:\n",
    "\n",
    "- Consider the input parameters required for each function and their return values.\n",
    "- Utilize function parameters and return values to transfer data between functions.\n",
    "- Test your functions individually to ensure they work correctly.\n",
    "\n",
    "\n"
   ]
  },
  {
   "cell_type": "code",
   "execution_count": 96,
   "id": "b5e0ffc2-65fd-4501-aaf3-f80c19f14937",
   "metadata": {},
   "outputs": [
    {
     "name": "stdin",
     "output_type": "stream",
     "text": [
      "Enter the quantity for t-shirt:  7\n",
      "Enter the quantity for mug:  7\n",
      "Enter the quantity for hat:  7\n",
      "Enter the quantity for book:  7\n",
      "Enter the quantity for keychain:  7\n"
     ]
    },
    {
     "name": "stdout",
     "output_type": "stream",
     "text": [
      "Inventory:  {'t-shirt': 7, 'mug': 7, 'hat': 7, 'book': 7, 'keychain': 7}\n"
     ]
    }
   ],
   "source": [
    "products=[\"t-shirt\", \"mug\", \"hat\", \"book\", \"keychain\"]\n",
    "def initialize_inventory(products):\n",
    "    inventory={}\n",
    "    for product in products:\n",
    "        quantity = input(f\"Enter the quantity for {product}: \")\n",
    "        while not quantity.isdigit():\n",
    "            print(f\"{quantity} is not a valid quantity.\")\n",
    "            quantity = input(f\"Enter the quantity for {product}: \")\n",
    "        inventory[product] = int(quantity)\n",
    "    return inventory\n",
    "\n",
    "inventory=initialize_inventory(products)\n",
    "print(\"Inventory: \", inventory)"
   ]
  },
  {
   "cell_type": "code",
   "execution_count": 97,
   "id": "47a5edb0-a5bd-4583-9a5d-b825e8391c0b",
   "metadata": {},
   "outputs": [
    {
     "name": "stdin",
     "output_type": "stream",
     "text": [
      "Enter the name of a product to order (from t-shirt, mug, hat, book, keychain):  t-shirt\n"
     ]
    },
    {
     "name": "stdout",
     "output_type": "stream",
     "text": [
      "t-shirt has been added to your order.\n"
     ]
    },
    {
     "name": "stdin",
     "output_type": "stream",
     "text": [
      "Do you want to add another product? (yes/no):  yes\n",
      "Enter the name of a product to order (from t-shirt, mug, hat, book, keychain):  mug\n"
     ]
    },
    {
     "name": "stdout",
     "output_type": "stream",
     "text": [
      "mug has been added to your order.\n"
     ]
    },
    {
     "name": "stdin",
     "output_type": "stream",
     "text": [
      "Do you want to add another product? (yes/no):  no\n"
     ]
    },
    {
     "name": "stdout",
     "output_type": "stream",
     "text": [
      "Customer orders: {'mug', 't-shirt'}\n"
     ]
    }
   ],
   "source": [
    "\n",
    "def get_customer_orders():\n",
    "    customer_orders=set()\n",
    "    products=[\"t-shirt\", \"mug\", \"hat\", \"book\", \"keychain\"]\n",
    "    while True:\n",
    "        product = input(\"Enter the name of a product to order (from t-shirt, mug, hat, book, keychain): \").strip().lower()\n",
    "        if product in products:\n",
    "            customer_orders.add(product)\n",
    "            print(f\"{product} has been added to your order.\")\n",
    "        else:\n",
    "            print(f\"{product} is not a valid product. Please choose from the list: {products}\")\n",
    "        \n",
    "        another_product = input(\"Do you want to add another product? (yes/no): \").strip().lower()\n",
    "        if another_product != \"yes\":\n",
    "            break\n",
    "    return customer_orders\n",
    "customer_orders=get_customer_orders()\n",
    "print(\"Customer orders:\", customer_orders)"
   ]
  },
  {
   "cell_type": "code",
   "execution_count": 98,
   "id": "d9fe3a0a-eecf-4492-9211-def751e616ca",
   "metadata": {},
   "outputs": [
    {
     "name": "stdout",
     "output_type": "stream",
     "text": [
      "Updated inventory:  {'t-shirt': 6, 'mug': 6, 'hat': 7, 'book': 7, 'keychain': 7}\n"
     ]
    }
   ],
   "source": [
    "def update_inventory(customer_orders,inventory):\n",
    "    for product in customer_orders:\n",
    "        if product in inventory:\n",
    "            if inventory[product]>0:\n",
    "                inventory[product]=inventory[product]-1\n",
    "            else:\n",
    "                print(f\"{product} not available\")\n",
    "        else: \n",
    "            print(f\"{product} doesn't exist in this inventory.\")\n",
    "            \n",
    "    return inventory\n",
    "\n",
    "inventory=update_inventory(customer_orders,inventory)\n",
    "print(\"Updated inventory: \", inventory)"
   ]
  },
  {
   "cell_type": "code",
   "execution_count": 99,
   "id": "82ed20c5-8c98-451c-92ef-155e26c1e896",
   "metadata": {},
   "outputs": [
    {
     "name": "stdout",
     "output_type": "stream",
     "text": [
      "Total Products Ordered:  2\n",
      "Percentage of Products Ordered:  40.0 %\n"
     ]
    }
   ],
   "source": [
    "def calculate_order_statistics (customer_orders,products):\n",
    "    total_products_ordered = len(customer_orders)\n",
    "    percentage_products_ordered = (total_products_ordered / len(products)) * 100\n",
    "    return(total_products_ordered, percentage_products_ordered)\n",
    "\n",
    "total_products_ordered, percentage_products_ordered=calculate_order_statistics (customer_orders,products)\n",
    "print(\"Total Products Ordered: \",total_products_ordered)\n",
    "print(\"Percentage of Products Ordered: \",percentage_products_ordered,\"%\")"
   ]
  },
  {
   "cell_type": "code",
   "execution_count": 100,
   "id": "e2e29d6e-ff48-4e67-a29a-a2dc91d4ca48",
   "metadata": {},
   "outputs": [
    {
     "name": "stdout",
     "output_type": "stream",
     "text": [
      "Order Statistics: \n",
      "Total Products Ordered:  3\n",
      "Percentage of Products Ordered:  40 %\n"
     ]
    }
   ],
   "source": [
    "def print_order_statistics (order_statistics):\n",
    "    total_products_ordered, percentage_products_ordered=order_statistics\n",
    "    print(\"Order Statistics: \")\n",
    "    print(\"Total Products Ordered: \",total_products_ordered)\n",
    "    print(\"Percentage of Products Ordered: \",percentage_products_ordered,\"%\")\n",
    "    \n",
    "\n",
    "print_order_statistics([3,40])\n"
   ]
  },
  {
   "cell_type": "code",
   "execution_count": 101,
   "id": "2bccbd01-6f40-4512-a741-89938ba3025c",
   "metadata": {},
   "outputs": [
    {
     "name": "stdout",
     "output_type": "stream",
     "text": [
      "Updated inventory: \n",
      "t-shirt: 6\n",
      "mug: 6\n",
      "hat: 7\n",
      "book: 7\n",
      "keychain: 7\n"
     ]
    }
   ],
   "source": [
    " def print_updated_inventory (inventory):\n",
    "     print(\"Updated inventory: \")\n",
    "     for product, quantity in inventory.items():\n",
    "        print(f\"{product}: {quantity}\")\n",
    "\n",
    "print_updated_inventory (inventory)"
   ]
  },
  {
   "cell_type": "code",
   "execution_count": 102,
   "id": "eeefa5b0-12bb-48aa-8e8e-621949cd9ae8",
   "metadata": {},
   "outputs": [
    {
     "name": "stdin",
     "output_type": "stream",
     "text": [
      "Enter the quantity for t-shirt:  10\n",
      "Enter the quantity for mug:  10\n",
      "Enter the quantity for hat:  10\n",
      "Enter the quantity for book:  10\n",
      "Enter the quantity for keychain:  10\n",
      "Enter the name of a product to order (from t-shirt, mug, hat, book, keychain):  mug\n"
     ]
    },
    {
     "name": "stdout",
     "output_type": "stream",
     "text": [
      "mug has been added to your order.\n"
     ]
    },
    {
     "name": "stdin",
     "output_type": "stream",
     "text": [
      "Do you want to add another product? (yes/no):  yes\n",
      "Enter the name of a product to order (from t-shirt, mug, hat, book, keychain):  hat\n"
     ]
    },
    {
     "name": "stdout",
     "output_type": "stream",
     "text": [
      "hat has been added to your order.\n"
     ]
    },
    {
     "name": "stdin",
     "output_type": "stream",
     "text": [
      "Do you want to add another product? (yes/no):  yes\n",
      "Enter the name of a product to order (from t-shirt, mug, hat, book, keychain):  book\n"
     ]
    },
    {
     "name": "stdout",
     "output_type": "stream",
     "text": [
      "book has been added to your order.\n"
     ]
    },
    {
     "name": "stdin",
     "output_type": "stream",
     "text": [
      "Do you want to add another product? (yes/no):  no\n"
     ]
    },
    {
     "name": "stdout",
     "output_type": "stream",
     "text": [
      "Order Statistics: \n",
      "Total Products Ordered:  3\n",
      "Percentage of Products Ordered:  60.0 %\n",
      "Updated inventory: \n",
      "t-shirt: 10\n",
      "mug: 9\n",
      "hat: 9\n",
      "book: 9\n",
      "keychain: 10\n"
     ]
    }
   ],
   "source": [
    "products = [\"t-shirt\", \"mug\", \"hat\", \"book\", \"keychain\"]\n",
    "inventory = initialize_inventory(products)\n",
    "customer_orders = get_customer_orders()\n",
    "inventory = update_inventory(customer_orders, inventory)\n",
    "order_statistics = calculate_order_statistics(customer_orders, products)\n",
    "print_order_statistics(order_statistics)\n",
    "print_updated_inventory(inventory)"
   ]
  },
  {
   "cell_type": "code",
   "execution_count": null,
   "id": "87ebcbbe-283d-4915-bd06-516c57b0a4b4",
   "metadata": {},
   "outputs": [],
   "source": []
  }
 ],
 "metadata": {
  "kernelspec": {
   "display_name": "Python 3 (ipykernel)",
   "language": "python",
   "name": "python3"
  },
  "language_info": {
   "codemirror_mode": {
    "name": "ipython",
    "version": 3
   },
   "file_extension": ".py",
   "mimetype": "text/x-python",
   "name": "python",
   "nbconvert_exporter": "python",
   "pygments_lexer": "ipython3",
   "version": "3.12.4"
  }
 },
 "nbformat": 4,
 "nbformat_minor": 5
}
